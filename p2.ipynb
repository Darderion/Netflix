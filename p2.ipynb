{
 "cells": [
  {
   "cell_type": "code",
   "execution_count": 1,
   "id": "96eb4b81",
   "metadata": {},
   "outputs": [],
   "source": [
    "import numpy as np\n",
    "import pandas as pd\n",
    "\n",
    "from scipy.sparse import hstack, diags\n",
    "\n",
    "from collections import defaultdict\n",
    "\n",
    "from sklearn.preprocessing import OneHotEncoder\n",
    "from sklearn.model_selection import KFold\n",
    "from sklearn.utils import shuffle\n",
    "from sklearn.metrics import mean_squared_error\n",
    "\n",
    "from pathlib import Path"
   ]
  },
  {
   "cell_type": "code",
   "execution_count": 2,
   "id": "63868443",
   "metadata": {},
   "outputs": [],
   "source": [
    "config = defaultdict(list)\n",
    "config['rows'] = 500000\n",
    "config['theta'] = 0.1\n",
    "config['steps'] = 20\n",
    "config['file'] = 'L:/projects/combined_data_1.txt'"
   ]
  },
  {
   "cell_type": "code",
   "execution_count": 3,
   "id": "b5e6f071",
   "metadata": {},
   "outputs": [],
   "source": [
    "filePath = Path('data.csv')\n",
    "if not filePath.exists():\n",
    "    data = open('data.csv',     mode = 'w')\n",
    "    file = open(config['file'], mode = 'r')\n",
    "    rows = list()\n",
    "    for line in file:\n",
    "        del rows[:]\n",
    "        line = line.strip()\n",
    "        if line.endswith(':'):\n",
    "            film_id = line.replace(':', '')\n",
    "        else:\n",
    "            rows = [el for el in line.split(',')]\n",
    "            rows.append(film_id)\n",
    "            data.write(','.join(rows) + '\\n')\n",
    "    file.close()\n",
    "    data.close()"
   ]
  },
  {
   "cell_type": "code",
   "execution_count": 4,
   "id": "ba50ec5d",
   "metadata": {},
   "outputs": [],
   "source": [
    "df = pd.read_csv('data.csv', header=0, names=['user_id', 'rating', 'date', 'film_id'], nrows=config['rows'])\n",
    "df = df.drop('date', axis=1)\n",
    "encoder = OneHotEncoder()\n",
    "users = encoder.fit_transform(np.asarray(df['user_id']).reshape(-1, 1))\n",
    "films = encoder.fit_transform(np.asarray(df['film_id']).reshape(-1, 1))\n",
    "rating = defaultdict(list)\n",
    "graded = np.zeros(films.shape)\n",
    "folds = KFold(shuffle=True)\n",
    "dfTable = pd.DataFrame(columns=['Type'])\n",
    "dfTable['Type'] = ['RMSE']"
   ]
  },
  {
   "cell_type": "code",
   "execution_count": 5,
   "id": "5f8f718e",
   "metadata": {},
   "outputs": [],
   "source": [
    "for i, row in df.iterrows():\n",
    "    rating[row['user_id']] = (row['film_id'], row['rating'])\n",
    "    graded[i][row['film_id'] - 1] = row['rating']/10\n",
    "\n",
    "x = hstack([np.ones(config['rows']).reshape(-1,1), users, films, graded]).tocsr()\n",
    "y = np.asarray(df['rating']).reshape(-1,1)\n",
    "x, y = shuffle(x, y)"
   ]
  },
  {
   "cell_type": "code",
   "execution_count": 6,
   "id": "98624d2c",
   "metadata": {},
   "outputs": [],
   "source": [
    "def predict(x, w, v):\n",
    "    return x.dot(w) + 0.5 * (\n",
    "        np.sum(np.square(x.dot(v)), axis=1).reshape(-1,1) -\n",
    "        np.sum(x.power(2).dot(np.square(v)), axis=1).reshape(-1,1)\n",
    "    )"
   ]
  },
  {
   "cell_type": "code",
   "execution_count": 7,
   "id": "0deca98a",
   "metadata": {},
   "outputs": [],
   "source": [
    "def gd(x, y, theta, steps):\n",
    "    w = np.zeros((x.shape[1], 1))\n",
    "    v = np.zeros((x.shape[1], 2))\n",
    "    \n",
    "    for i in range(steps):\n",
    "        w += (2 * theta / len(y)) * x.T.dot(y - x.dot(w))\n",
    "    \n",
    "        xv = x.dot(v)\n",
    "        pred = predict(x, w, v)\n",
    "    \n",
    "        for i in range(v.shape[1]):\n",
    "            v[:, i] += (2 * theta / x.shape[1]) * (\n",
    "                diags(np.array(xv)[:, i]).dot(x) -\n",
    "                x.power(2).dot(diags(v[:, i]))\n",
    "            ).T.dot(y - pred).reshape((-1,))\n",
    "        \n",
    "        pred = predict(x, w, v)\n",
    "        \n",
    "    return w, v"
   ]
  },
  {
   "cell_type": "code",
   "execution_count": 8,
   "id": "f9633aa9",
   "metadata": {},
   "outputs": [
    {
     "data": {
      "text/html": [
       "<div>\n",
       "<style scoped>\n",
       "    .dataframe tbody tr th:only-of-type {\n",
       "        vertical-align: middle;\n",
       "    }\n",
       "\n",
       "    .dataframe tbody tr th {\n",
       "        vertical-align: top;\n",
       "    }\n",
       "\n",
       "    .dataframe thead th {\n",
       "        text-align: right;\n",
       "    }\n",
       "</style>\n",
       "<table border=\"1\" class=\"dataframe\">\n",
       "  <thead>\n",
       "    <tr style=\"text-align: right;\">\n",
       "      <th></th>\n",
       "      <th>1</th>\n",
       "      <th>2</th>\n",
       "      <th>3</th>\n",
       "      <th>4</th>\n",
       "      <th>5</th>\n",
       "    </tr>\n",
       "    <tr>\n",
       "      <th>Type</th>\n",
       "      <th></th>\n",
       "      <th></th>\n",
       "      <th></th>\n",
       "      <th></th>\n",
       "      <th></th>\n",
       "    </tr>\n",
       "  </thead>\n",
       "  <tbody>\n",
       "    <tr>\n",
       "      <th>RMSE</th>\n",
       "      <td>1.054042</td>\n",
       "      <td>1.056073</td>\n",
       "      <td>1.050988</td>\n",
       "      <td>1.056912</td>\n",
       "      <td>1.056926</td>\n",
       "    </tr>\n",
       "  </tbody>\n",
       "</table>\n",
       "</div>"
      ],
      "text/plain": [
       "             1         2         3         4         5\n",
       "Type                                                  \n",
       "RMSE  1.054042  1.056073  1.050988  1.056912  1.056926"
      ]
     },
     "execution_count": 8,
     "metadata": {},
     "output_type": "execute_result"
    }
   ],
   "source": [
    "for ind, [ train, test ] in enumerate(folds.split(x)):\n",
    "    w, v = gd(x[train], y[train], config['theta'], config['steps'])\n",
    "    dfTable[ind + 1] = mean_squared_error(y[test], predict(x[test], w, v), squared = False)\n",
    "dfTable.set_index('Type')"
   ]
  },
  {
   "cell_type": "code",
   "execution_count": null,
   "id": "ed511914",
   "metadata": {},
   "outputs": [],
   "source": []
  }
 ],
 "metadata": {
  "kernelspec": {
   "display_name": "Python 3 (ipykernel)",
   "language": "python",
   "name": "python3"
  },
  "language_info": {
   "codemirror_mode": {
    "name": "ipython",
    "version": 3
   },
   "file_extension": ".py",
   "mimetype": "text/x-python",
   "name": "python",
   "nbconvert_exporter": "python",
   "pygments_lexer": "ipython3",
   "version": "3.9.9"
  }
 },
 "nbformat": 4,
 "nbformat_minor": 5
}
